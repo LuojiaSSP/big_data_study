{
 "cells": [
  {
   "cell_type": "code",
   "execution_count": null,
   "metadata": {},
   "outputs": [],
   "source": [
    "import pandas as pd\n",
    "import os\n",
    "data_path = \"G:\\\\weibo_data\\\\Weibo\"\n",
    "for file_name in os.listdir(data_path):\n",
    "    file_path = os.path.join(data_path, file_name)\n",
    "    if os.path.isfile(file_path):\n",
    "        print(file_path)\n",
    "        df = pd.read_csv(file_path)\n",
    "        break\n",
    "        # df.to_csv(file_path, sep='\\t', header=None, index=False) "
   ]
  }
 ],
 "metadata": {
  "kernelspec": {
   "display_name": "gpu",
   "language": "python",
   "name": "python3"
  },
  "language_info": {
   "name": "python",
   "version": "3.9.13 | packaged by conda-forge | (main, May 27 2022, 16:50:36) [MSC v.1929 64 bit (AMD64)]"
  },
  "orig_nbformat": 4,
  "vscode": {
   "interpreter": {
    "hash": "92a49d314022a7421a3fa3d26ffb456b14343f5178a50ecbbba1fdaed9414936"
   }
  }
 },
 "nbformat": 4,
 "nbformat_minor": 2
}
